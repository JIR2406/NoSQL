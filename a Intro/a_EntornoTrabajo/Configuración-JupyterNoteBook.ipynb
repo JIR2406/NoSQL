{
 "cells": [
  {
   "cell_type": "markdown",
   "id": "70eb09da",
   "metadata": {},
   "source": [
    "# Base de Datos NoSQL\n",
    "\n",
    "## Configuración de mi ambiente de trabajo\n",
    "\n",
    "### Instalación de Miniconda\n",
    "\n",
    "### Creación del ambiente *nosql*\n",
    "\n",
    "### Jupyter Notebooks\n",
    "\n",
    "#### Markdown\n",
    "\n",
    "\n",
    "**Referencias:**\n",
    "\n",
    "- [Basic syntax][MD]\n",
    "\n",
    "\n",
    "\n",
    "[MD]:<https://www.markdownguide.org/basic-syntax/>"
   ]
  },
  {
   "cell_type": "markdown",
   "id": "85fedf6f",
   "metadata": {},
   "source": [
    "# Configuración del ambiente de trabajo \n",
    "\n",
    "## Python para Bases de Datos\n",
    "\n",
    "> [Configuración para Os X][INST-PT]\n",
    "\n",
    "**Crear el ambiente _nosql_**\n",
    "\n",
    "```terminal\n",
    "conda create --name nosql python -y\n",
    "```\n",
    "\n",
    "**Activar el ambiente _nosql_**\n",
    "```terminal\n",
    "conda activate nosql\n",
    "```\n",
    "\n",
    "**Instala Jupyter Notebooks**\n",
    "```terminal\n",
    "conda install jupyter -y\n",
    "```\n",
    "\n",
    "**Instalar librerías adicionales**\n",
    "```terminal\n",
    "conda install pandas matplotlib numpy -y\n",
    "```\n",
    "\n",
    "\n",
    "**Ejecutar Jupyter Notebooks**\n",
    "```terminal\n",
    "jupyter notebook\n",
    "```\n",
    "\n",
    "### Registramos el ambiente como un *kernel* en Jupyter-Notebooks \n",
    "\n",
    "**Listado de kernel's instalados en Jupyter-Notebooks**\n",
    "```terminal\n",
    "jupyter kernelspec list\n",
    "```\n",
    "\n",
    "**Instalamos la librería *ipykernel* que permite la creación de kernels para Jupyter-Notebooks.**\n",
    "```terminal\n",
    "conda install ipykernel -y\n",
    "```\n",
    "\n",
    "**Registramos el ambiente _nosql_ (kernel) en Jupyter-Notebooks**\n",
    "```terminal\n",
    "python -m ipykernel install --user --name=nosql\n",
    "```\n",
    "\n",
    "\n",
    "### Probando que el kernel funcione\n",
    "\n",
    "> ```kernel --> Change kernel --> torch```\n",
    "\n",
    "Importamos las siguientes librerías, y no debe indicarse ningún error.\n",
    "\n",
    "[INST-PT]:<https://betterdatascience.com/pytorch-install/>"
   ]
  },
  {
   "cell_type": "code",
   "execution_count": 4,
   "id": "e0116fd9",
   "metadata": {},
   "outputs": [
    {
     "name": "stdout",
     "output_type": "stream",
     "text": [
      "Hola Mundo\n"
     ]
    }
   ],
   "source": [
    "import numpy as np\n",
    "\n",
    "print(\"Hola Mundo\")\n"
   ]
  },
  {
   "cell_type": "markdown",
   "id": "16742708",
   "metadata": {},
   "source": [
    "## Escritura en _Markdown_\n",
    "\n",
    "**Referencias:**\n",
    "\n",
    "- [Basic syntax][MD]\n",
    "\n",
    "[MD]:<https://www.markdownguide.org/basic-syntax/>"
   ]
  }
 ],
 "metadata": {
  "kernelspec": {
   "display_name": "nosql",
   "language": "python",
   "name": "python3"
  },
  "language_info": {
   "codemirror_mode": {
    "name": "ipython",
    "version": 3
   },
   "file_extension": ".py",
   "mimetype": "text/x-python",
   "name": "python",
   "nbconvert_exporter": "python",
   "pygments_lexer": "ipython3",
   "version": "3.12.8"
  }
 },
 "nbformat": 4,
 "nbformat_minor": 5
}
