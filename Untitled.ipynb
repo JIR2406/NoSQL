{
 "cells": [
  {
   "cell_type": "code",
   "execution_count": null,
   "id": "001a23cc-1eaf-41e0-9f3d-47e400843e7e",
   "metadata": {},
   "outputs": [],
   "source": []
  }
 ],
 "metadata": {
  "kernelspec": {
   "display_name": "",
   "name": ""
  },
  "language_info": {
   "name": ""
  }
 },
 "nbformat": 4,
 "nbformat_minor": 5
}
